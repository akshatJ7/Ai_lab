{
  "nbformat": 4,
  "nbformat_minor": 0,
  "metadata": {
    "colab": {
      "provenance": []
    },
    "kernelspec": {
      "name": "python3",
      "display_name": "Python 3"
    },
    "language_info": {
      "name": "python"
    }
  },
  "cells": [
    {
      "cell_type": "code",
      "execution_count": 1,
      "metadata": {
        "colab": {
          "base_uri": "https://localhost:8080/"
        },
        "id": "FRtZZ9INnGD9",
        "outputId": "1c387954-4245-4a7a-8e81-08594e384f76"
      },
      "outputs": [
        {
          "output_type": "stream",
          "name": "stdout",
          "text": [
            "Unification successful!\n",
            "Substitutions: {'x': 'Riya', 'y': 'Apple'}\n"
          ]
        }
      ],
      "source": [
        "def unify(expr1, expr2):\n",
        "    \"\"\"\n",
        "    Attempt to unify two expressions in First-Order Logic.\n",
        "\n",
        "    Parameters:\n",
        "    - expr1: First expression (e.g., \"Eats(x, Apple)\")\n",
        "    - expr2: Second expression (e.g., \"Eats(Riya, y)\")\n",
        "\n",
        "    Returns:\n",
        "    - A dictionary of substitutions if unification is successful, or None if it fails.\n",
        "    \"\"\"\n",
        "    substitutions = {}\n",
        "\n",
        "    def is_variable(term):\n",
        "        \"\"\"Check if the term is a variable (lowercase in this case).\"\"\"\n",
        "        return isinstance(term, str) and term.islower()\n",
        "\n",
        "    def unify_terms(term1, term2):\n",
        "        \"\"\"Unify two terms.\"\"\"\n",
        "        if term1 == term2:  # Identical terms\n",
        "            return True\n",
        "        elif is_variable(term1):  # term1 is a variable\n",
        "            substitutions[term1] = term2\n",
        "            return True\n",
        "        elif is_variable(term2):  # term2 is a variable\n",
        "            substitutions[term2] = term1\n",
        "            return True\n",
        "        return False  # Terms cannot be unified\n",
        "\n",
        "    # Split the expressions into function name and arguments\n",
        "    def parse_expression(expr):\n",
        "        func_name, args = expr.split(\"(\")\n",
        "        args = args.strip(\")\").split(\", \")\n",
        "        return func_name, args\n",
        "\n",
        "    func1, args1 = parse_expression(expr1)\n",
        "    func2, args2 = parse_expression(expr2)\n",
        "\n",
        "    # Check if predicate symbols match\n",
        "    if func1 != func2 or len(args1) != len(args2):\n",
        "        return None\n",
        "\n",
        "    # Attempt to unify arguments\n",
        "    for arg1, arg2 in zip(args1, args2):\n",
        "        if not unify_terms(arg1, arg2):\n",
        "            return None\n",
        "\n",
        "    return substitutions\n",
        "\n",
        "\n",
        "# Example usage\n",
        "expr1 = \"Eats(x, Apple)\"\n",
        "expr2 = \"Eats(Riya, y)\"\n",
        "\n",
        "result = unify(expr1, expr2)\n",
        "\n",
        "if result:\n",
        "    print(\"Unification successful!\")\n",
        "    print(\"Substitutions:\", result)\n",
        "else:\n",
        "    print(\"Unification failed.\")\n"
      ]
    }
  ]
}