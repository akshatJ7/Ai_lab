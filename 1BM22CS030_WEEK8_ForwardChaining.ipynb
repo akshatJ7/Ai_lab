{
  "nbformat": 4,
  "nbformat_minor": 0,
  "metadata": {
    "colab": {
      "provenance": []
    },
    "kernelspec": {
      "name": "python3",
      "display_name": "Python 3"
    },
    "language_info": {
      "name": "python"
    }
  },
  "cells": [
    {
      "cell_type": "code",
      "source": [
        "class ForwardChainingFOL:\n",
        "    def __init__(self):\n",
        "        self.facts = set()\n",
        "        self.rules = []\n",
        "\n",
        "    def add_fact(self, fact):\n",
        "        self.facts.add(fact)\n",
        "\n",
        "    def add_rule(self, premises, conclusion):\n",
        "        self.rules.append((premises, conclusion))\n",
        "\n",
        "    def unify(self, fact, premise):\n",
        "        if \"(\" not in premise:\n",
        "            return fact == premise\n",
        "        if premise.split(\"(\")[0] != fact.split(\"(\")[0]:\n",
        "            return None\n",
        "\n",
        "        fact_args = fact[fact.index(\"(\") + 1 : -1].split(\",\")\n",
        "        premise_args = premise[premise.index(\"(\") + 1 : -1].split(\",\")\n",
        "        if len(fact_args) != len(premise_args):\n",
        "            return None\n",
        "\n",
        "        substitution = {}\n",
        "        for f_arg, p_arg in zip(fact_args, premise_args):\n",
        "            if p_arg.islower():\n",
        "                if p_arg in substitution:\n",
        "                    if substitution[p_arg] != f_arg:\n",
        "                        return None\n",
        "                else:\n",
        "                    substitution[p_arg] = f_arg\n",
        "            elif f_arg != p_arg:\n",
        "                return None\n",
        "        return substitution\n",
        "\n",
        "    def apply_substitution(self, expr, substitution):\n",
        "        if \"(\" not in expr:\n",
        "            return substitution.get(expr, expr)\n",
        "\n",
        "        predicate = expr.split(\"(\")[0]\n",
        "        args = expr[expr.index(\"(\") + 1 : -1].split(\",\")\n",
        "        substituted_args = [substitution.get(arg, arg) for arg in args]\n",
        "        return f\"{predicate}({','.join(substituted_args)})\"\n",
        "\n",
        "    def infer(self):\n",
        "        new_inferences = True\n",
        "        while new_inferences:\n",
        "            new_inferences = False\n",
        "            for premises, conclusion in self.rules:\n",
        "                substitutions = []\n",
        "                for premise in premises:\n",
        "                    for fact in self.facts:\n",
        "                        subst = self.unify(fact, premise)\n",
        "                        if subst is not None:\n",
        "                            substitutions.append(subst)\n",
        "                            break\n",
        "\n",
        "                if len(substitutions) == len(premises):\n",
        "                    combined_subst = {}\n",
        "                    for subst in substitutions:\n",
        "                        combined_subst.update(subst)\n",
        "\n",
        "                    inferred_fact = self.apply_substitution(conclusion, combined_subst)\n",
        "                    if inferred_fact not in self.facts:\n",
        "                        print(f\"Inferred: {inferred_fact}\")\n",
        "                        self.facts.add(inferred_fact)\n",
        "                        new_inferences = True\n",
        "\n",
        "    def query(self, query_fact):\n",
        "        if query_fact in self.facts:\n",
        "            print(f\"Proved: {query_fact}\")\n",
        "            return True\n",
        "        else:\n",
        "            print(f\"Could not prove: {query_fact}\")\n",
        "            return False\n",
        "\n",
        "\n",
        "kb = ForwardChainingFOL()\n",
        "\n",
        "kb.add_fact(\"American(Robert)\")\n",
        "kb.add_fact(\"Missile(T1)\")\n",
        "kb.add_fact(\"Owns(A,T1)\")\n",
        "kb.add_fact(\"Enemy(A,America)\")\n",
        "\n",
        "kb.add_rule([\"Missile(x)\", \"Owns(A,x)\"], \"Sells(Robert,x,A)\")\n",
        "kb.add_rule([\"Missile(x)\"], \"Weapon(x)\")\n",
        "kb.add_rule([\"Enemy(x,America)\"], \"Hostile(x)\")\n",
        "kb.add_rule([\"American(p)\", \"Weapon(q)\", \"Sells(p,q,r)\", \"Hostile(r)\"], \"Criminal(p)\")\n",
        "\n",
        "kb.infer()\n",
        "kb.query(\"Criminal(Robert)\")\n"
      ],
      "metadata": {
        "colab": {
          "base_uri": "https://localhost:8080/"
        },
        "id": "5-nOJAFiuAuU",
        "outputId": "7fa2f7ac-2ffb-46fc-adf2-3660ddf43142"
      },
      "execution_count": 18,
      "outputs": [
        {
          "output_type": "stream",
          "name": "stdout",
          "text": [
            "Inferred: Sells(Robert,T1,A)\n",
            "Inferred: Weapon(T1)\n",
            "Inferred: Hostile(A)\n",
            "Inferred: Criminal(Robert)\n",
            "Proved: Criminal(Robert)\n"
          ]
        },
        {
          "output_type": "execute_result",
          "data": {
            "text/plain": [
              "True"
            ]
          },
          "metadata": {},
          "execution_count": 18
        }
      ]
    }
  ]
}