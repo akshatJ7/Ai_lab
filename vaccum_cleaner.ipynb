{
  "nbformat": 4,
  "nbformat_minor": 0,
  "metadata": {
    "colab": {
      "provenance": []
    },
    "kernelspec": {
      "name": "python3",
      "display_name": "Python 3"
    },
    "language_info": {
      "name": "python"
    }
  },
  "cells": [
    {
      "cell_type": "markdown",
      "source": [],
      "metadata": {
        "id": "7oYxtz3URKlJ"
      }
    },
    {
      "cell_type": "code",
      "source": [
        "print(\"Vacuum cleaner problem \\nName : Akshat Jain\\n\")\n",
        "print(\"USN : 1BM22CS030\\n\\n\")\n",
        "\n",
        " # Agent function table\n",
        "agent_table = {\n",
        "    ('Clean', 'A'): 'MoveRight',\n",
        "    ('Clean', 'B'): 'MoveLeft',\n",
        "    ('Dirty', 'A'): 'Suck',\n",
        "    ('Dirty', 'B'): 'Suck',\n",
        "}\n",
        "\n",
        "# Vacuum cleaner class\n",
        "class VacuumCleaner:\n",
        "    def __init__(self, location='A', status='Clean'):\n",
        "        self.location = location\n",
        "        self.status = status\n",
        "\n",
        "    def percept(self):\n",
        "        return self.status\n",
        "\n",
        "    def act(self, action):\n",
        "        if action == 'MoveRight':\n",
        "            self.location = 'B'\n",
        "        elif action == 'MoveLeft':\n",
        "            self.location = 'A'\n",
        "        elif action == 'Suck':\n",
        "            self.status = 'Clean'\n",
        "\n",
        "# Table-driven agent function\n",
        "def table_driven_agent(percept):\n",
        "    return agent_table.get(percept, 'NoOp')\n",
        "\n",
        "# Main simulation loop\n",
        "if __name__ == \"__main__\":\n",
        "    vacuum = VacuumCleaner()\n",
        "\n",
        "    for _ in range(5):  # Run for 5 time steps\n",
        "        current_percept = vacuum.percept()\n",
        "        action = table_driven_agent((current_percept, vacuum.location))\n",
        "        print(f\"Percept: {current_percept}, Action: {action}\")\n",
        "\n",
        "        if action != 'NoOp':\n",
        "            vacuum.act(action)\n",
        "\n",
        "        print(f\"Location: {vacuum.location}, Status: {vacuum.status}\\n\")\n"
      ],
      "metadata": {
        "colab": {
          "base_uri": "https://localhost:8080/"
        },
        "id": "tM03u6uHMnLa",
        "outputId": "4de29a79-d892-43fb-8a21-c2a3f5835a8c"
      },
      "execution_count": 5,
      "outputs": [
        {
          "output_type": "stream",
          "name": "stdout",
          "text": [
            "Vacuum cleaner problem \n",
            "Name : Akshat Jain\n",
            "\n",
            "USN : 1BM22CS030\n",
            "\n",
            "\n",
            "Percept: Clean, Action: MoveRight\n",
            "Location: B, Status: Clean\n",
            "\n",
            "Percept: Clean, Action: MoveLeft\n",
            "Location: A, Status: Clean\n",
            "\n",
            "Percept: Clean, Action: MoveRight\n",
            "Location: B, Status: Clean\n",
            "\n",
            "Percept: Clean, Action: MoveLeft\n",
            "Location: A, Status: Clean\n",
            "\n",
            "Percept: Clean, Action: MoveRight\n",
            "Location: B, Status: Clean\n",
            "\n"
          ]
        }
      ]
    }
  ]
}