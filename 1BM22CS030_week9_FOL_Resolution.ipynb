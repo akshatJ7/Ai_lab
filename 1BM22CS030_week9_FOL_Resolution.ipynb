{
  "nbformat": 4,
  "nbformat_minor": 0,
  "metadata": {
    "colab": {
      "provenance": []
    },
    "kernelspec": {
      "name": "python3",
      "display_name": "Python 3"
    },
    "language_info": {
      "name": "python"
    }
  },
  "cells": [
    {
      "cell_type": "code",
      "source": [
        "# Updated Knowledge Base with Structured Rules\n",
        "knowledge_base = [\n",
        "    {\"predicate\": \"likes\", \"args\": [\"John\", \"X\"], \"condition\": \"food(X)\"},\n",
        "    {\"predicate\": \"food\", \"args\": [\"apple\"], \"condition\": None},\n",
        "    {\"predicate\": \"food\", \"args\": [\"vegetables\"], \"condition\": None},\n",
        "    {\"predicate\": \"food\", \"args\": [\"Y\"], \"condition\": \"eats(Z, Y) and alive(Z)\"},\n",
        "    {\"predicate\": \"eats\", \"args\": [\"Anil\", \"peanuts\"], \"condition\": None},\n",
        "    {\"predicate\": \"alive\", \"args\": [\"Anil\"], \"condition\": None},\n",
        "    {\"predicate\": \"eats\", \"args\": [\"Harry\", \"Y\"], \"condition\": \"eats(Anil, Y)\"},\n",
        "    {\"predicate\": \"alive\", \"args\": [\"W\"], \"condition\": \"not_killed(W)\"},\n",
        "    {\"predicate\": \"not_killed\", \"args\": [\"V\"], \"condition\": \"alive(V)\"},\n",
        "]\n",
        "\n",
        "# Convert each rule to CNF\n",
        "def to_cnf(rule):\n",
        "    if rule[\"condition\"]:\n",
        "        conditions = rule[\"condition\"].split(\" and \")\n",
        "        cnf_clauses = [f\"¬({cond}) ∨ {rule['predicate']}({', '.join(rule['args'])})\" for cond in conditions]\n",
        "        return cnf_clauses\n",
        "    return [f\"{rule['predicate']}({', '.join(rule['args'])})\"]\n",
        "\n",
        "# Print CNF for Knowledge Base\n",
        "print(\"Converting Knowledge Base to CNF:\")\n",
        "for rule in knowledge_base:\n",
        "    cnf_clauses = to_cnf(rule)\n",
        "    print(f\"Rule: {rule}\")\n",
        "    for clause in cnf_clauses:\n",
        "        print(f\"   CNF: {clause}\")\n",
        "\n",
        "# Query to prove\n",
        "query = {\"predicate\": \"likes\", \"args\": [\"John\", \"peanuts\"]}\n",
        "\n",
        "# Resolve Function\n",
        "def resolve(query, kb):\n",
        "    for rule in kb:\n",
        "        if rule[\"predicate\"] == query[\"predicate\"]:\n",
        "            if unify(query[\"args\"], rule[\"args\"]):  # Match arguments\n",
        "                if rule[\"condition\"] is None:\n",
        "                    return True\n",
        "                else:\n",
        "                    # Break the condition into subqueries and resolve them\n",
        "                    subqueries = rule[\"condition\"].split(\" and \")\n",
        "                    return all(\n",
        "                        resolve(\n",
        "                            {\"predicate\": subq.split(\"(\")[0], \"args\": subq.split(\"(\")[1][:-1].split(\", \")}, kb\n",
        "                        )\n",
        "                        for subq in subqueries\n",
        "                    )\n",
        "    return False\n",
        "\n",
        "# Unification Logic\n",
        "def unify(args1, args2):\n",
        "    if len(args1) != len(args2):\n",
        "        return False\n",
        "    for a1, a2 in zip(args1, args2):\n",
        "        if a1 != a2 and a1 != \"X\" and a2 != \"X\":  # \"X\" is a variable\n",
        "            return False\n",
        "    return True\n",
        "\n",
        "# Proof by Resolution\n",
        "if resolve(query, knowledge_base):\n",
        "    print(\"\\nQuery proved: John likes peanuts.\")\n",
        "else:\n",
        "    print(\"\\nQuery could not be resolved.\")\n"
      ],
      "metadata": {
        "colab": {
          "base_uri": "https://localhost:8080/"
        },
        "id": "4iiAhca22YIZ",
        "outputId": "dd426987-9428-4fe6-b822-cb112f4b01a8"
      },
      "execution_count": 5,
      "outputs": [
        {
          "output_type": "stream",
          "name": "stdout",
          "text": [
            "Converting Knowledge Base to CNF:\n",
            "Rule: {'predicate': 'likes', 'args': ['John', 'X'], 'condition': 'food(X)'}\n",
            "   CNF: ¬(food(X)) ∨ likes(John, X)\n",
            "Rule: {'predicate': 'food', 'args': ['apple'], 'condition': None}\n",
            "   CNF: food(apple)\n",
            "Rule: {'predicate': 'food', 'args': ['vegetables'], 'condition': None}\n",
            "   CNF: food(vegetables)\n",
            "Rule: {'predicate': 'food', 'args': ['Y'], 'condition': 'eats(Z, Y) and alive(Z)'}\n",
            "   CNF: ¬(eats(Z, Y)) ∨ food(Y)\n",
            "   CNF: ¬(alive(Z)) ∨ food(Y)\n",
            "Rule: {'predicate': 'eats', 'args': ['Anil', 'peanuts'], 'condition': None}\n",
            "   CNF: eats(Anil, peanuts)\n",
            "Rule: {'predicate': 'alive', 'args': ['Anil'], 'condition': None}\n",
            "   CNF: alive(Anil)\n",
            "Rule: {'predicate': 'eats', 'args': ['Harry', 'Y'], 'condition': 'eats(Anil, Y)'}\n",
            "   CNF: ¬(eats(Anil, Y)) ∨ eats(Harry, Y)\n",
            "Rule: {'predicate': 'alive', 'args': ['W'], 'condition': 'not_killed(W)'}\n",
            "   CNF: ¬(not_killed(W)) ∨ alive(W)\n",
            "Rule: {'predicate': 'not_killed', 'args': ['V'], 'condition': 'alive(V)'}\n",
            "   CNF: ¬(alive(V)) ∨ not_killed(V)\n",
            "\n",
            "Query proved: John likes peanuts.\n"
          ]
        }
      ]
    }
  ]
}