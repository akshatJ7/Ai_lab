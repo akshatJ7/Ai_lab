{
  "nbformat": 4,
  "nbformat_minor": 0,
  "metadata": {
    "colab": {
      "provenance": []
    },
    "kernelspec": {
      "name": "python3",
      "display_name": "Python 3"
    },
    "language_info": {
      "name": "python"
    }
  },
  "cells": [
    {
      "cell_type": "code",
      "execution_count": 5,
      "metadata": {
        "colab": {
          "base_uri": "https://localhost:8080/"
        },
        "id": "WwgJCJTCxmIS",
        "outputId": "7f3d7a53-bf8a-487f-c44d-a43dc54b619a"
      },
      "outputs": [
        {
          "output_type": "stream",
          "name": "stdout",
          "text": [
            "Optimal value at root: 10\n"
          ]
        }
      ],
      "source": [
        "import math\n",
        "\n",
        "# Alpha-Beta Pruning Implementation\n",
        "def alpha_beta_pruning(node, depth, alpha, beta, maximizing_player, tree):\n",
        "    # If the node is a leaf node or we've reached max depth\n",
        "    if depth == 0 or not isinstance(tree[node], list):\n",
        "        return tree.get(node, 0)  # Return the value of the leaf node\n",
        "\n",
        "    if maximizing_player:\n",
        "        max_eval = -math.inf\n",
        "        for child in tree[node]:\n",
        "            eval = alpha_beta_pruning(child, depth - 1, alpha, beta, False, tree)\n",
        "            max_eval = max(max_eval, eval)\n",
        "            alpha = max(alpha, eval)\n",
        "            if beta <= alpha:  # Beta cutoff\n",
        "                break\n",
        "        return max_eval\n",
        "    else:\n",
        "        min_eval = math.inf\n",
        "        for child in tree[node]:\n",
        "            eval = alpha_beta_pruning(child, depth - 1, alpha, beta, True, tree)\n",
        "            min_eval = min(min_eval, eval)\n",
        "            beta = min(beta, eval)\n",
        "            if beta <= alpha:  # Alpha cutoff\n",
        "                break\n",
        "        return min_eval\n",
        "\n",
        "# Tree Representation\n",
        "# Each node points to its children; leaf nodes have values.\n",
        "tree = {\n",
        "    'A': ['B', 'C'],\n",
        "    'B': ['D', 'E'],\n",
        "    'C': ['F', 'G'],\n",
        "    'D': ['H', 'I'],\n",
        "    'E': ['J', 'K'],\n",
        "    'F': ['L', 'M'],\n",
        "    'G': ['N', 'O'],\n",
        "    'H': 10, 'I': 9,\n",
        "    'J': 14, 'K': 18,\n",
        "    'L': 5, 'M': 4,\n",
        "    'N': 50, 'O': 3\n",
        "}\n",
        "\n",
        "# Starting Alpha-Beta Pruning\n",
        "root = 'A'\n",
        "depth = 3  # Depth of tree\n",
        "alpha = -math.inf\n",
        "beta = math.inf\n",
        "\n",
        "optimal_value = alpha_beta_pruning(root, depth, alpha, beta, True, tree)\n",
        "print(f\"Optimal value at root: {optimal_value}\")\n",
        "\n"
      ]
    }
  ]
}