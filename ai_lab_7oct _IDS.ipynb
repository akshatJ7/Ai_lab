{
  "nbformat": 4,
  "nbformat_minor": 0,
  "metadata": {
    "colab": {
      "provenance": []
    },
    "kernelspec": {
      "name": "python3",
      "display_name": "Python 3"
    },
    "language_info": {
      "name": "python"
    }
  },
  "cells": [
    {
      "cell_type": "code",
      "source": [
        "class PuzzleIDS:\n",
        "    def __init__(self, start, goal):\n",
        "        self.start = start\n",
        "        self.goal = goal\n",
        "\n",
        "    def find_zero(self, state):\n",
        "        for i in range(3):\n",
        "            for j in range(3):\n",
        "                if state[i][j] == 0:\n",
        "                    return (i, j)\n",
        "\n",
        "    def get_neighbors(self, state):\n",
        "        x, y = self.find_zero(state)\n",
        "        neighbors = []\n",
        "        directions = [(0, 1), (1, 0), (0, -1), (-1, 0)]\n",
        "\n",
        "        for dx, dy in directions:\n",
        "            nx, ny = x + dx, y + dy\n",
        "            if 0 <= nx < 3 and 0 <= ny < 3:\n",
        "                new_state = [row[:] for row in state]\n",
        "                new_state[x][y], new_state[nx][ny] = new_state[nx][ny], new_state[x][y]\n",
        "                neighbors.append(new_state)\n",
        "        return neighbors\n",
        "\n",
        "    def dls(self, state, depth, path, visited):\n",
        "        if state == self.goal:\n",
        "            return path + [state]\n",
        "        if depth == 0:\n",
        "            return None\n",
        "\n",
        "        visited.add(tuple(tuple(row) for row in state))\n",
        "\n",
        "        for neighbor in self.get_neighbors(state):\n",
        "            neighbor_tuple = tuple(tuple(row) for row in neighbor)\n",
        "            if neighbor_tuple not in visited:\n",
        "                result = self.dls(neighbor, depth - 1, path + [state], visited)\n",
        "                if result:\n",
        "                    return result\n",
        "        visited.remove(tuple(tuple(row) for row in state))\n",
        "        return None\n",
        "\n",
        "    def ids(self, max_depth=50):\n",
        "        for depth in range(max_depth):\n",
        "            visited = set()\n",
        "            result = self.dls(self.start, depth, [], visited)\n",
        "            if result:\n",
        "                return result\n",
        "        return None\n",
        "\n",
        "start_state = [[1, 2, 3], [4, 0, 5], [7, 8, 6]]\n",
        "goal_state = [[1, 2, 3], [4, 5, 6], [7, 8, 0]]\n",
        "\n",
        "puzzle = PuzzleIDS(start_state, goal_state)\n",
        "solution = puzzle.ids()\n",
        "\n",
        "if solution:\n",
        "    for step in solution:\n",
        "        print(step)\n",
        "else:\n",
        "    print(\"No solution found.\")\n",
        "print(\"AKSHAT JAIN ,1BM22CS030\")"
      ],
      "metadata": {
        "colab": {
          "base_uri": "https://localhost:8080/"
        },
        "id": "tlXGOSf0P6RB",
        "outputId": "1edd0e2b-38ce-49d3-f658-5cce6bed1976"
      },
      "execution_count": 4,
      "outputs": [
        {
          "output_type": "stream",
          "name": "stdout",
          "text": [
            "[[1, 2, 3], [4, 0, 5], [7, 8, 6]]\n",
            "[[1, 2, 3], [4, 5, 0], [7, 8, 6]]\n",
            "[[1, 2, 3], [4, 5, 6], [7, 8, 0]]\n",
            "AKSHAT JAIN ,1BM22CS030\n"
          ]
        }
      ]
    },
    {
      "cell_type": "code",
      "source": [],
      "metadata": {
        "id": "tM03u6uHMnLa"
      },
      "execution_count": null,
      "outputs": []
    }
  ]
}